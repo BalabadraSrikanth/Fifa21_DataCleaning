{
 "cells": [
  {
   "cell_type": "code",
   "execution_count": null,
   "id": "26657356",
   "metadata": {},
   "outputs": [
    {
     "name": "stdout",
     "output_type": "stream",
     "text": [
      "123-456-7890\n"
     ]
    }
   ],
   "source": [
    "fifa_df = spark.read.format(\"csv\") \\\n",
    "    .option(\"header\", \"true\") \\\n",
    "    .option(\"multiLine\", \"true\") \\\n",
    "    .option(\"quote\", \"\\\"\") \\\n",
    "    .option(\"escape\", \"\\\"\") \\\n",
    "    .option(\"inferSchema\", \"true\") \\\n",
    "    .option(\"mode\", \"DROPMALFORMED\") \\\n",
    "    .load(\"/Volumes/workspace/datasets/data/Fifa21/fifa21_raw_data.csv\")\n"
   ]
  },
  {
   "cell_type": "code",
   "execution_count": null,
   "id": "f7ca310a",
   "metadata": {},
   "outputs": [],
   "source": [
    "fifa_df_v2 = spark.read.format(\"csv\") \\\n",
    "    .option(\"header\", \"true\") \\\n",
    "    .option(\"multiLine\", \"true\") \\\n",
    "    .option(\"inferSchema\",\"true\") \\\n",
    "    .option(\"quote\", \"\\\"\") \\\n",
    "    .option(\"escape\", \"\\\"\") \\\n",
    "    .load(\"/Volumes/workspace/datasets/data/Fifa21/fifa21 raw data v2.csv\")\n",
    "#display(fifa_df_v2)"
   ]
  },
  {
   "cell_type": "code",
   "execution_count": null,
   "id": "12298949",
   "metadata": {},
   "outputs": [],
   "source": [
    "#Renaming the column Name\n",
    "\n",
    "fifa_df_v2=fifa_df_v2.withColumnRenamed(\"↓OVA\",\"OVA\")"
   ]
  },
  {
   "cell_type": "code",
   "execution_count": null,
   "id": "b6303f52",
   "metadata": {},
   "outputs": [],
   "source": [
    "# Modyfying the column Club Removing the \"\\n\" from the column using regexp_replace\n",
    "from pyspark.sql.functions import col, regexp_replace\n",
    "fifa_df_v2=fifa_df_v2.withColumn(\"Club\",regexp_replace(col(\"Club\"),\"\\n\",\"\"))\n",
    "fifa_df_v2.select(\"Club\").show()"
   ]
  },
  {
   "cell_type": "code",
   "execution_count": null,
   "id": "6a5c5799",
   "metadata": {},
   "outputs": [],
   "source": [
    "from pyspark.sql.functions import col, when\n",
    "from pyspark.sql.types import IntegerType, StringType\n",
    "from pyspark.sql.functions import udf\n",
    "\n",
    "# Replacing the column Height from String to integer\n",
    "def replaceheight(x):\n",
    "    x=x.strip()                             # removing the space using strip()\n",
    "    if x is None:   \n",
    "        return None\n",
    "    if \"'\" in x:            \n",
    "        feet, foot = x.split(\"'\")           # assigning the value to feet and foot by spliting based on (')\n",
    "        if \"\\\"\" in foot:\n",
    "            foot=foot.replace(\"\\\"\",\"\")      # replacing the \" with \"\"\n",
    "        if foot==\"\":\n",
    "            foot=0                          # if foot is empty then foot is 0\n",
    "        \n",
    "        return int(int(feet) * 30.48 + int(foot) * 2.54)    #converting  the value to cm\n",
    "    elif \"cm\" in x:\n",
    "        return int(x.replace(\"cm\",\"\"))      # replacing the cm with \"\" an tycasting to int \n",
    "    else:\n",
    "        return None\n",
    "\n",
    "# using userdefine function to replace the value\n",
    "returnntype=udf(replaceheight,StringType())\n",
    "# using with colummn to replace the value and casting the value to int\n",
    "fifa_df_v2=fifa_df_v2.withColumn(\"Height\", returnntype(col(\"Height\"))).withColumn(\"Height\",col(\"Height\").cast(\"int\"))\n",
    "\n",
    "# Display how many types of data in the height column using regexp_replace, group by and count\n",
    "display(fifa_df_v2.withColumn(\"Height\",regexp_replace(col(\"Height\"),\"[0-9]\",\"\")).groupBy(\"Height\").count().orderBy(\"count\"))\n",
    "display(fifa_df_v2.select(\"Height\").dtypes)\n"
   ]
  },
  {
   "cell_type": "code",
   "execution_count": null,
   "metadata": {},
   "outputs": [],
   "source": [
    "'''\n",
    "# Method 2\n",
    "\n",
    "from pyspark.sql.functions import col, when, split, regexp_replace\n",
    "\n",
    "fifa_df_v2 = fifa_df_v2.withColumn(\n",
    "    \"Height\",\n",
    "    when(col(\"Height\").like(\"%'%\"),\n",
    "         # Feet → split before '\n",
    "         split(col(\"Height\"), \"'\").getItem(0).cast(\"int\") * 30.48 +\n",
    "         # Inches → split after ' then remove all non-digits like \" or ''\n",
    "         regexp_replace(split(col(\"Height\"), \"'\").getItem(1), r'[^0-9]', \"\").cast(\"int\") * 2.54\n",
    "    )\n",
    "    .when(col(\"Height\").like(\"%cm%\"),\n",
    "          regexp_replace(col(\"Height\"), \"cm\", \"\").cast(\"int\"))\n",
    "    .otherwise(None)\n",
    ").withColumn(\"Height\", col(\"Height\").cast(\"int\"))\n",
    "\n",
    "#fifa_df_v2.select(\"Height\", \"Height_cm\").show(20, False)\n",
    "\n",
    "display(fifa_df_v2.withColumn(\"Height\",regexp_replace(col(\"Height\"),\"[0-9]\",\"\")).groupBy(\"Height\").count().orderBy(\"count\"))\n",
    "'''"
   ]
  },
  {
   "cell_type": "code",
   "execution_count": null,
   "metadata": {},
   "outputs": [],
   "source": [
    "# Converting the lbs to kg from weight column  and converting the weight column to int\n",
    "from pyspark.sql.functions import regexp_replace, when, col, cast\n",
    "\n",
    "# display how the data contains\n",
    "display(fifa_df_v2.withColumn(\"Weight\",regexp_replace(\"Weight\",\"[0-9]\",\"\")).groupBy(\"Weight\").count().orderBy(\"Weight\"))\n",
    "\n",
    "\n",
    "fifa_df_v2=fifa_df_v2.withColumn(\"Weight\",\n",
    "                                 when(col(\"Weight\").like(\"%kg%\"),                   # finding the replacing the kg to \"\"\n",
    "                                      regexp_replace(\"Weight\",\"kg\",\"\").cast(\"int\")\n",
    "                                      )                                      \n",
    "                                 .when(col(\"Weight\").like(\"%lbs%\"),                  # finding the lbs and replacing the lbs to \"\" and converting the lbs to kg and casting to int\n",
    "                                       regexp_replace(\"Weight\",\"lbs\",\"\").cast(\"int\")*0.453592                                 \n",
    "                                       ).otherwise(None)\n",
    "                                 ).withColumn(\"Weight\",col(\"Weight\").cast(\"int\"))\n",
    "\n",
    "display(fifa_df_v2.select(\"Weight\"))\n",
    "\n",
    "display(fifa_df_v2.withColumn(\"Weight\",regexp_replace(\"Weight\",\"[0-9]\",\"\")).groupBy(\"Weight\").count().orderBy(\"Weight\"))"
   ]
  },
  {
   "cell_type": "code",
   "execution_count": null,
   "id": "60894d6a",
   "metadata": {},
   "outputs": [],
   "source": [
    "# REnaming the Columns to Hight to Height_in_cm and Weight to Weight_in_kg\n",
    "fifa_df_v2=fifa_df_v2.withColumnRenamed(\"Height\",\"Height_in_cm\").withColumnRenamed(\"Weight\",\"Weight_in_kg\")\n",
    "fifa_df_v2.printSchema()"
   ]
  },
  {
   "cell_type": "code",
   "execution_count": null,
   "metadata": {},
   "outputs": [],
   "source": [
    "# converting \"Value\",\"Wage\",\"Release Clause to int and \n",
    "# renameing into \"Values in Euro Million\", \"Wage in Euros\", \"Release Clause in Euro Million\"\n",
    "\n",
    "from pyspark.sql.types import DoubleType\n",
    "import re\n",
    "def replacingValueWageRelaeaseClause(x):\n",
    "    if x is None:\n",
    "        return None\n",
    "    num=str(x)\n",
    "    num=re.sub(r\"[^0-9.]\",\"\",num)\n",
    "    if \"K\" in x:\n",
    "        return float(num)*1000\n",
    "    x=float(num)\n",
    "    \n",
    "    return x\n",
    "\n",
    "replaceingValueWageRelaeaseClause_=udf(replacingValueWageRelaeaseClause,StringType())\n",
    "\n",
    "fifa_df_v2=fifa_df_v2.withColumn(\"Value\",replaceingValueWageRelaeaseClause_(col(\"Value\"))).withColumn(\"Wage\",replaceingValueWageRelaeaseClause_(col(\"Wage\"))).withColumn(\"Release Clause\",replaceingValueWageRelaeaseClause_(col(\"Release Clause\"))).withColumnRenamed(\"Value\",\"Values in Euro Million\").withColumnRenamed(\"Wage\",\"Wage in Euros\").withColumnRenamed(\"Release Clause\",\"Release Clause in Euro Million\")\n",
    "fifa_df_v2.printSchema()"
   ]
  },
  {
   "cell_type": "code",
   "execution_count": null,
   "metadata": {},
   "outputs": [],
   "source": [
    "# W/F, SM, IR  replacing the star an converting to int \n",
    "\n",
    "fifa_df_v2=fifa_df_v2.withColumn(\"W/F\",regexp_replace(col(\"W/F\"),\"★\",\"\")).withColumn(\"SM\",regexp_replace(col(\"SM\"),\"★\",\"\")).withColumn(\"IR\",regexp_replace(col(\"IR\"),\"★\",\"\")).withColumn(\"W/F\",col(\"W/F\").cast(\"int\")).withColumn(\"SM\",col(\"SM\").cast(\"int\")).withColumn(\"IR\",col(\"IR\").cast(\"int\"))\n",
    "# Replacing the columns to int  \n",
    "fifa_df_v2=fifa_df_v2.withColumn(\"Crossing\",col(\"Crossing\").cast(\"int\"))"
   ]
  },
  {
   "cell_type": "code",
   "execution_count": null,
   "metadata": {},
   "outputs": [],
   "source": []
  },
  {
   "cell_type": "code",
   "execution_count": null,
   "metadata": {},
   "outputs": [],
   "source": []
  },
  {
   "cell_type": "code",
   "execution_count": null,
   "metadata": {},
   "outputs": [],
   "source": []
  },
  {
   "cell_type": "code",
   "execution_count": null,
   "metadata": {},
   "outputs": [],
   "source": []
  },
  {
   "cell_type": "code",
   "execution_count": null,
   "metadata": {},
   "outputs": [],
   "source": []
  },
  {
   "cell_type": "code",
   "execution_count": null,
   "metadata": {},
   "outputs": [],
   "source": []
  }
 ],
 "metadata": {
  "kernelspec": {
   "display_name": "Python 3",
   "language": "python",
   "name": "python3"
  },
  "language_info": {
   "codemirror_mode": {
    "name": "ipython",
    "version": 3
   },
   "file_extension": ".py",
   "mimetype": "text/x-python",
   "name": "python",
   "nbconvert_exporter": "python",
   "pygments_lexer": "ipython3",
   "version": "3.13.2"
  }
 },
 "nbformat": 4,
 "nbformat_minor": 5
}
